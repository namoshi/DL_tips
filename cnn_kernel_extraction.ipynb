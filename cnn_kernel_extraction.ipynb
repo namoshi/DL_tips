{
 "cells": [
  {
   "cell_type": "markdown",
   "metadata": {},
   "source": [
    "# CNNの指定したConvolutionのカーネルを行列として取り出す\n",
    "\n",
    "このノートブックでは、PyTorchを使用してCIFAR-10データセットを使ってCNNモデルの指定された畳み込み層のカーネル（重み）を行列として抽出します。"
   ]
  },
  {
   "cell_type": "code",
   "execution_count": 1,
   "metadata": {},
   "outputs": [],
   "source": [
    "# ライブラリのインポート\n",
    "import torch\n",
    "import torch.nn as nn\n",
    "import torchvision\n",
    "import torchvision.transforms as transforms\n",
    "import numpy as np"
   ]
  },
  {
   "cell_type": "markdown",
   "metadata": {},
   "source": [
    "## CIFAR-10 データセットの読み込み"
   ]
  },
  {
   "cell_type": "code",
   "execution_count": 2,
   "metadata": {},
   "outputs": [
    {
     "name": "stderr",
     "output_type": "stream",
     "text": [
      "100%|██████████| 170M/170M [00:31<00:00, 5.34MB/s] \n"
     ]
    }
   ],
   "source": [
    "# データの前処理\n",
    "transform = transforms.Compose([\n",
    "    transforms.ToTensor(),\n",
    "    transforms.Normalize((0.5, 0.5, 0.5), (0.5, 0.5, 0.5))\n",
    "])\n",
    "\n",
    "# CIFAR-10 データセットをダウンロード・読み込み\n",
    "trainset = torchvision.datasets.CIFAR10(root='./data', train=True,\n",
    "                                        download=True, transform=transform)\n",
    "trainloader = torch.utils.data.DataLoader(trainset, batch_size=4,\n",
    "                                          shuffle=True, num_workers=2)"
   ]
  },
  {
   "cell_type": "markdown",
   "metadata": {},
   "source": [
    "## CNNモデルの定義"
   ]
  },
  {
   "cell_type": "code",
   "execution_count": 3,
   "metadata": {},
   "outputs": [],
   "source": [
    "class SimpleCNN(nn.Module):\n",
    "    def __init__(self):\n",
    "        super(SimpleCNN, self).__init__()\n",
    "        self.conv1 = nn.Conv2d(3, 6, 5)  # 入力チャネル3、出力チャネル6、カーネルサイズ5\n",
    "        self.pool = nn.MaxPool2d(2, 2)\n",
    "        self.conv2 = nn.Conv2d(6, 16, 5)\n",
    "        self.fc1 = nn.Linear(16 * 5 * 5, 120)\n",
    "        self.fc2 = nn.Linear(120, 84)\n",
    "        self.fc3 = nn.Linear(84, 10)\n",
    "\n",
    "    def forward(self, x):\n",
    "        x = self.pool(torch.relu(self.conv1(x)))\n",
    "        x = self.pool(torch.relu(self.conv2(x)))\n",
    "        x = x.view(-1, 16 * 5 * 5)\n",
    "        x = torch.relu(self.fc1(x))\n",
    "        x = torch.relu(self.fc2(x))\n",
    "        x = self.fc3(x)\n",
    "        return x\n",
    "\n",
    "# モデルの初期化\n",
    "model = SimpleCNN()"
   ]
  },
  {
   "cell_type": "markdown",
   "metadata": {},
   "source": [
    "## 指定されたConv層のカーネルを行列として取得"
   ]
  },
  {
   "cell_type": "code",
   "execution_count": 4,
   "metadata": {},
   "outputs": [
    {
     "name": "stdout",
     "output_type": "stream",
     "text": [
      "Kernel shape: torch.Size([6, 3, 5, 5])\n",
      "Kernel matrix shape (flatten): (6, 3, 5, 5)\n"
     ]
    }
   ],
   "source": [
    "# 例として、conv1 層のカーネルを取得\n",
    "conv_layer = model.conv1  # または conv2 など\n",
    "\n",
    "# カーネルの重みを取得（shape: [out_channels, in_channels, height, width]）\n",
    "kernel_weights = conv_layer.weight.data\n",
    "\n",
    "print(\"Kernel shape:\", kernel_weights.shape)\n",
    "\n",
    "# NumPy に変換して表示\n",
    "kernel_matrix = kernel_weights.numpy()\n",
    "\n",
    "# 各カーネルを展開（1つの行列に結合）\n",
    "print(\"Kernel matrix shape (flatten):\", kernel_matrix.shape)"
   ]
  },
  {
   "cell_type": "markdown",
   "metadata": {},
   "source": [
    "## カーネルの可視化（例）"
   ]
  },
  {
   "cell_type": "code",
   "execution_count": 5,
   "metadata": {},
   "outputs": [
    {
     "data": {
      "image/png": "[encoded data removed]",
      "text/plain": [
       "<Figure size 800x800 with 9 Axes>"
      ]
     },
     "metadata": {},
     "output_type": "display_data"
    }
   ],
   "source": [
    "# matplotlib のインポート\n",
    "import matplotlib.pyplot as plt\n",
    "\n",
    "# 各カーネルを表示（例: conv1 の最初のカーネル）\n",
    "kernel = kernel_matrix[0]  # 最初の出力チャネルのカーネル\n",
    "\n",
    "fig, axes = plt.subplots(3, 3, figsize=(8, 8))\n",
    "for i in range(3):\n",
    "    for j in range(3):\n",
    "        idx = i * 3 + j\n",
    "        if idx < len(kernel):\n",
    "            axes[i, j].imshow(kernel[idx], cmap='gray')\n",
    "            axes[i, j].set_title(f'Channel {idx}')\n",
    "            axes[i, j].axis('off')\n",
    "plt.tight_layout()\n",
    "plt.show()"
   ]
  }
 ],
 "metadata": {
  "kernelspec": {
   "display_name": "base",
   "language": "python",
   "name": "python3"
  },
  "language_info": {
   "codemirror_mode": {
    "name": "ipython",
    "version": 3
   },
   "file_extension": ".py",
   "mimetype": "text/x-python",
   "name": "python",
   "nbconvert_exporter": "python",
   "pygments_lexer": "ipython3",
   "version": "3.12.7"
  }
 },
 "nbformat": 4,
 "nbformat_minor": 4
}
